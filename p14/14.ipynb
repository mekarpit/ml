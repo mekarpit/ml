{
 "cells": [
  {
   "cell_type": "code",
   "execution_count": null,
   "metadata": {},
   "outputs": [],
   "source": [
    "import pandas as pd\n",
    "import matplotlib.pyplot as plt\n",
    "import seaborn as sns\n",
    "import numpy as np\n",
    "import datetime as dt"
   ]
  },
  {
   "cell_type": "code",
   "execution_count": null,
   "metadata": {},
   "outputs": [],
   "source": [
    "cd = pd.read_excel('CustomersData.xlsx')\n",
    "dc = pd.read_csv('Discount_Coupon.csv')\n",
    "ms = pd.read_csv('Marketing_Spend.csv')\n",
    "os = pd.read_csv('Online_Sales.csv')\n",
    "ta = pd.read_excel('Tax_amount.xlsx')"
   ]
  },
  {
   "attachments": {},
   "cell_type": "markdown",
   "metadata": {},
   "source": [
    "os = pd.merge(left=os,right=cd,on='CustomerID', how='left')"
   ]
  },
  {
   "attachments": {},
   "cell_type": "markdown",
   "metadata": {},
   "source": [
    "os['Transaction_Date']=pd.to_datetime(os['Transaction_Date'], format='%Y%m%d')"
   ]
  },
  {
   "attachments": {},
   "cell_type": "markdown",
   "metadata": {},
   "source": [
    "os['month']=os['Transaction_Date'].dt.strftime(\"%b\")"
   ]
  },
  {
   "attachments": {},
   "cell_type": "markdown",
   "metadata": {},
   "source": [
    "os.columns"
   ]
  },
  {
   "attachments": {},
   "cell_type": "markdown",
   "metadata": {},
   "source": [
    "dc.columns"
   ]
  },
  {
   "attachments": {},
   "cell_type": "markdown",
   "metadata": {},
   "source": [
    "os = pd.merge(left=os,right=dc,left_on=['month','Product_Category'],right_on=['Month','Product_Category '], how='left')"
   ]
  },
  {
   "attachments": {},
   "cell_type": "markdown",
   "metadata": {},
   "source": [
    "os = pd.merge(left=os,right=ta,on='Product_Category',how='left')"
   ]
  },
  {
   "attachments": {},
   "cell_type": "markdown",
   "metadata": {},
   "source": [
    "data=os.copy()"
   ]
  },
  {
   "attachments": {},
   "cell_type": "markdown",
   "metadata": {},
   "source": [
    "data.to_csv('data.csv',index=False)"
   ]
  },
  {
   "cell_type": "code",
   "execution_count": null,
   "metadata": {},
   "outputs": [],
   "source": [
    "data=pd.read_csv('data.csv')"
   ]
  },
  {
   "attachments": {},
   "cell_type": "markdown",
   "metadata": {},
   "source": [
    "data.head()"
   ]
  },
  {
   "cell_type": "code",
   "execution_count": null,
   "metadata": {},
   "outputs": [],
   "source": [
    "data['Transaction_ID'].nunique()"
   ]
  },
  {
   "cell_type": "code",
   "execution_count": null,
   "metadata": {},
   "outputs": [],
   "source": [
    "data['Invoice_Value'] = round((data['Quantity']*data['Avg_Price']*(100-data['Discount_pct'])*(1+data['GST'])/100)+data['Delivery_Charges'],0)"
   ]
  },
  {
   "cell_type": "code",
   "execution_count": null,
   "metadata": {},
   "outputs": [],
   "source": [
    "ms['Date']=pd.to_datetime(ms['Date'], format=\"%m/%d/%Y\")"
   ]
  },
  {
   "cell_type": "code",
   "execution_count": null,
   "metadata": {},
   "outputs": [],
   "source": [
    "data['Transaction_Date']=data['Transaction_Date'].astype('datetime64[ns]')"
   ]
  },
  {
   "cell_type": "code",
   "execution_count": null,
   "metadata": {},
   "outputs": [],
   "source": [
    "datewise = pd.DataFrame(data.groupby('Transaction_Date')['Invoice_Value'].sum())\n",
    "datewise.reset_index(inplace=True)"
   ]
  },
  {
   "cell_type": "code",
   "execution_count": null,
   "metadata": {},
   "outputs": [],
   "source": [
    "datewise=pd.merge(left=datewise,left_on=['Transaction_Date'],right=ms, right_on =['Date'],how='left' )\n",
    "datewise.drop(columns='Date',inplace=True)"
   ]
  },
  {
   "cell_type": "code",
   "execution_count": null,
   "metadata": {},
   "outputs": [],
   "source": [
    "data.info()"
   ]
  },
  {
   "cell_type": "code",
   "execution_count": null,
   "metadata": {},
   "outputs": [],
   "source": [
    "data.drop(columns=['Month','Product_Category '],inplace=True)"
   ]
  },
  {
   "cell_type": "code",
   "execution_count": null,
   "metadata": {},
   "outputs": [],
   "source": [
    "col = data.columns.to_list()"
   ]
  },
  {
   "cell_type": "code",
   "execution_count": null,
   "metadata": {},
   "outputs": [],
   "source": [
    "col.remove('Transaction_Date')\n",
    "col.remove('Discount_pct')\n",
    "col.remove('GST')\n",
    "col.remove('Invoice_Value')\n",
    "col.remove('Quantity')\n",
    "col.remove('Avg_Price')\n",
    "col.remove('Delivery_Charges')"
   ]
  },
  {
   "cell_type": "code",
   "execution_count": null,
   "metadata": {},
   "outputs": [],
   "source": [
    "col"
   ]
  },
  {
   "attachments": {},
   "cell_type": "markdown",
   "metadata": {},
   "source": [
    "Customers Acquired Every Month"
   ]
  },
  {
   "cell_type": "code",
   "execution_count": null,
   "metadata": {},
   "outputs": [],
   "source": [
    "for i in col:\n",
    "    print(i,data[i].nunique())"
   ]
  },
  {
   "cell_type": "code",
   "execution_count": null,
   "metadata": {},
   "outputs": [],
   "source": [
    "data['Coupon_Status'].unique()"
   ]
  },
  {
   "cell_type": "code",
   "execution_count": null,
   "metadata": {},
   "outputs": [],
   "source": [
    "data.isnull().sum()"
   ]
  },
  {
   "cell_type": "code",
   "execution_count": null,
   "metadata": {},
   "outputs": [],
   "source": [
    "data.dropna(inplace=True)"
   ]
  },
  {
   "cell_type": "code",
   "execution_count": null,
   "metadata": {},
   "outputs": [],
   "source": [
    "data.columns"
   ]
  },
  {
   "cell_type": "code",
   "execution_count": null,
   "metadata": {},
   "outputs": [],
   "source": [
    "data['visitcount']=data.groupby('CustomerID')['Transaction_Date'].rank(method='dense')"
   ]
  },
  {
   "cell_type": "code",
   "execution_count": null,
   "metadata": {},
   "outputs": [],
   "source": [
    "new_user = data.loc[:,['visitcount','month']][data['visitcount']==1].groupby('month')['visitcount'].count()"
   ]
  },
  {
   "cell_type": "code",
   "execution_count": null,
   "metadata": {},
   "outputs": [],
   "source": [
    "new_user=pd.DataFrame(new_user)"
   ]
  },
  {
   "cell_type": "code",
   "execution_count": null,
   "metadata": {},
   "outputs": [],
   "source": [
    "new_user.reset_index(inplace=True)"
   ]
  },
  {
   "cell_type": "code",
   "execution_count": null,
   "metadata": {},
   "outputs": [],
   "source": [
    "ax = sns.barplot(x='month',y='visitcount', data =new_user)\n",
    "ax.set(xlabel='Month', ylabel='No. of new users')"
   ]
  },
  {
   "cell_type": "code",
   "execution_count": null,
   "metadata": {},
   "outputs": [],
   "source": [
    "start_date = data.groupby('CustomerID')['Transaction_Date'].min()"
   ]
  },
  {
   "cell_type": "code",
   "execution_count": null,
   "metadata": {},
   "outputs": [],
   "source": [
    "start_date = start_date.rename(\"start_day\")"
   ]
  },
  {
   "cell_type": "code",
   "execution_count": null,
   "metadata": {},
   "outputs": [],
   "source": [
    "data = pd.merge(data, start_date, left_on='CustomerID', right_index=True)"
   ]
  },
  {
   "cell_type": "code",
   "execution_count": null,
   "metadata": {},
   "outputs": [],
   "source": [
    "data['days_since_start'] = (data['Transaction_Date'] - data['start_day']).dt.days"
   ]
  },
  {
   "cell_type": "code",
   "execution_count": null,
   "metadata": {},
   "outputs": [],
   "source": [
    "data['start_week'] = data.apply(lambda x: (x['start_day'] - pd.Timedelta(x['start_day'].dayofweek, u='Transaction_Date')).date(), axis=1)\n",
    "data['start_week'] = pd.to_datetime(data['start_week'])\n",
    "data['weeks_since_start'] = np.floor((data['Transaction_Date'] - data['start_week']) / np.timedelta64(1, 'W'))"
   ]
  },
  {
   "cell_type": "code",
   "execution_count": null,
   "metadata": {},
   "outputs": [],
   "source": [
    "data['start_month'] = data['start_day'].values.astype('datetime64[M]')\n",
    "data['months_since_start'] = np.floor((data['Transaction_Date'] - data['start_month']) / np.timedelta64(1, 'M'))"
   ]
  },
  {
   "cell_type": "code",
   "execution_count": null,
   "metadata": {},
   "outputs": [],
   "source": [
    "data['days_since_start'].nunique()"
   ]
  },
  {
   "cell_type": "code",
   "execution_count": null,
   "metadata": {},
   "outputs": [],
   "source": [
    "data.groupby('days_since_start')['CustomerID'].nunique().sum()"
   ]
  },
  {
   "cell_type": "code",
   "execution_count": null,
   "metadata": {},
   "outputs": [],
   "source": [
    "data.groupby('days_since_start')['CustomerID'].nunique()"
   ]
  },
  {
   "cell_type": "code",
   "execution_count": null,
   "metadata": {},
   "outputs": [],
   "source": [
    "whole_retention = data.groupby('days_since_start')['CustomerID'].nunique() / data['CustomerID'].nunique()\n",
    "\n",
    "plt.plot(whole_retention[2:]*100)\n",
    "plt.title(\"365-Day Daily Retention\")\n",
    "plt.xlabel(\"Days Since User First Started\")\n",
    "plt.ylabel(\"Percent Of Users Retained\")\n",
    "plt.ylim(0,1.05)\n"
   ]
  },
  {
   "cell_type": "code",
   "execution_count": null,
   "metadata": {
    "tags": []
   },
   "outputs": [],
   "source": [
    "plt.figure(figsize=(12,6))\n",
    "legend_x = 85\n",
    "legend_y = .55\n",
    "\n",
    "\n",
    "for i, month in enumerate(data['start_month'].unique()):\n",
    "    \n",
    "    dfc = data[data['start_month']==pd.to_datetime(month)]\n",
    "\n",
    "    retention_cohort = dfc.groupby('days_since_start')['CustomerID'].nunique() / dfc['CustomerID'].nunique()\n",
    "    \n",
    "    p = plt.plot(retention_cohort[1:]*20)\n",
    "    \n",
    "    plt.text(s=pd.to_datetime(month).strftime('%B %Y'), c=p[0].get_color(),\n",
    "             x=legend_x, y=legend_y + (.05 * i), weight='bold')\n",
    "\n",
    "plt.text(s=\"Cohort Month:\", x=legend_x, y=legend_y + (.05 * i) + .05, weight='bold')\n",
    "plt.title(\"365-Day Daily Retention\")\n",
    "plt.xlabel(\"Days Since User First Started\")\n",
    "plt.ylabel(\"Percent Of Users Retained\")\n",
    "plt.ylim(0,1.05)\n",
    "plt.gca().set_yticklabels(['{:.0f}%'.format(x*100) for x in plt.gca().get_yticks()]);"
   ]
  },
  {
   "cell_type": "code",
   "execution_count": null,
   "metadata": {},
   "outputs": [],
   "source": [
    "data.loc[ data['visitcount'] != 1, ['visit_type']] = 'Old'\n",
    "data.loc[ data['visitcount'] == 1, ['visit_type']] = 'New'"
   ]
  },
  {
   "cell_type": "code",
   "execution_count": null,
   "metadata": {},
   "outputs": [],
   "source": [
    "data['visit_type'].value_counts()\n"
   ]
  },
  {
   "cell_type": "code",
   "execution_count": null,
   "metadata": {},
   "outputs": [],
   "source": [
    "Months = ['Jan', 'Feb', 'Mar', 'Apr', 'May', 'Jun', \n",
    "             'Jul', 'Aug', 'Sep', 'Oct', 'Nov', 'Dec']\n",
    "\n",
    "\n",
    "sns.barplot(data = data, x='month',y='Invoice_Value',estimator = 'sum' ,errorbar=None,order=Months,hue='visit_type')\n",
    "plt.ylabel('Revenue')"
   ]
  },
  {
   "cell_type": "code",
   "execution_count": null,
   "metadata": {},
   "outputs": [],
   "source": [
    "discountrole =  pd.DataFrame(data.groupby(by ='month')['Coupon_Status'].value_counts())\n",
    "discountrole=discountrole.reset_index()"
   ]
  },
  {
   "cell_type": "code",
   "execution_count": null,
   "metadata": {},
   "outputs": [],
   "source": [
    "from pandas.api.types import CategoricalDtype\n",
    "\n",
    "cat_month = CategoricalDtype(\n",
    "    ['Jan', 'Feb', 'Mar', 'Apr','May','Jun','Jul','Aug','Sep','Oct','Nov','Dec'], \n",
    "    ordered=True,\n",
    ")"
   ]
  },
  {
   "cell_type": "code",
   "execution_count": null,
   "metadata": {},
   "outputs": [],
   "source": [
    "discountrole['month']=discountrole['month'].astype(cat_month)\n",
    "data['month']=data['month'].astype(cat_month)"
   ]
  },
  {
   "cell_type": "code",
   "execution_count": null,
   "metadata": {},
   "outputs": [],
   "source": [
    "sns.lineplot(data=discountrole,x='month',y='count', hue ='Coupon_Status')\n",
    "plt.ylabel(\"Orders\")\n",
    "\n",
    "#From the below it can be clearlt seen that the sale is higher when dicount is present"
   ]
  },
  {
   "cell_type": "code",
   "execution_count": null,
   "metadata": {},
   "outputs": [],
   "source": [
    "avg_revenue = pd.pivot_table(data=data,index=['month','visit_type'],values =['Invoice_Value','Transaction_ID'],aggfunc={'Invoice_Value':'sum','Transaction_ID':'count'})"
   ]
  },
  {
   "cell_type": "code",
   "execution_count": null,
   "metadata": {},
   "outputs": [],
   "source": [
    "avg_revenue=avg_revenue.reset_index()"
   ]
  },
  {
   "cell_type": "code",
   "execution_count": null,
   "metadata": {},
   "outputs": [],
   "source": [
    "avg_revenue['avg revenue per order']=avg_revenue['Invoice_Value']/avg_revenue['Transaction_ID']"
   ]
  },
  {
   "cell_type": "code",
   "execution_count": null,
   "metadata": {},
   "outputs": [],
   "source": [
    "data.groupby('Product_Category')['Invoice_Value'].sum().plot()"
   ]
  },
  {
   "cell_type": "code",
   "execution_count": null,
   "metadata": {},
   "outputs": [],
   "source": [
    "data.groupby('Location')['Invoice_Value'].sum().plot()"
   ]
  },
  {
   "cell_type": "code",
   "execution_count": null,
   "metadata": {},
   "outputs": [],
   "source": [
    "weekdays = ['Monday','Tuesday','Wednesday','Thursday','Friday','Saturday','Sunday']\n",
    "sns.barplot(data = data, x=data['Transaction_Date'].dt.day_name(),y='Invoice_Value',order=weekdays)\n",
    "plt.ylabel(\"Avg Revenue\")\n",
    "plt.xlabel(\"Weekday\")"
   ]
  },
  {
   "cell_type": "code",
   "execution_count": null,
   "metadata": {},
   "outputs": [],
   "source": [
    "ms['month']=ms['Date'].dt.strftime('%m')"
   ]
  },
  {
   "cell_type": "code",
   "execution_count": null,
   "metadata": {},
   "outputs": [],
   "source": [
    "#ms.groupby(ms['Date'].dt.strftime(\"%m\"))[['Offline_Spend','Online_Spend']].sum()"
   ]
  },
  {
   "cell_type": "code",
   "execution_count": null,
   "metadata": {},
   "outputs": [],
   "source": [
    "marketspend = pd.DataFrame(ms.groupby('month')[['Offline_Spend','Online_Spend']].sum())"
   ]
  },
  {
   "cell_type": "code",
   "execution_count": null,
   "metadata": {},
   "outputs": [],
   "source": [
    "marketspend['totalspend']=marketspend['Offline_Spend']+marketspend['Online_Spend']"
   ]
  },
  {
   "cell_type": "code",
   "execution_count": null,
   "metadata": {},
   "outputs": [],
   "source": [
    "marketspend.reset_index(inplace=True)"
   ]
  },
  {
   "cell_type": "code",
   "execution_count": null,
   "metadata": {},
   "outputs": [],
   "source": [
    "market = pd.DataFrame(data.groupby('month')[['Invoice_Value','GST','Delivery_Charges']].sum())\n",
    "market.reset_index(inplace=True)"
   ]
  },
  {
   "cell_type": "code",
   "execution_count": null,
   "metadata": {},
   "outputs": [],
   "source": [
    "marketspend.drop(columns='month',inplace=True)"
   ]
  },
  {
   "cell_type": "code",
   "execution_count": null,
   "metadata": {},
   "outputs": [],
   "source": [
    "monthly=pd.concat([market,marketspend],axis='columns')"
   ]
  },
  {
   "cell_type": "code",
   "execution_count": null,
   "metadata": {},
   "outputs": [],
   "source": [
    "monthly['%marketingspend']=round(monthly['totalspend']*100/monthly['Invoice_Value'],0)"
   ]
  },
  {
   "cell_type": "code",
   "execution_count": null,
   "metadata": {},
   "outputs": [],
   "source": [
    "monthly['%delivrycharge']=round(monthly['GST']*100/monthly['Invoice_Value'],1)"
   ]
  },
  {
   "cell_type": "code",
   "execution_count": null,
   "metadata": {},
   "outputs": [],
   "source": [
    "monthly"
   ]
  },
  {
   "cell_type": "code",
   "execution_count": null,
   "metadata": {},
   "outputs": [],
   "source": [
    "monthly[['Invoice_Value','totalspend']].corr()\n",
    "#From the below we can see that there is a strong correlation between market spend and revenue generated"
   ]
  },
  {
   "cell_type": "code",
   "execution_count": null,
   "metadata": {},
   "outputs": [],
   "source": [
    "#Product Appeared in Transactions\n",
    "data['Product_Description'].unique()"
   ]
  },
  {
   "cell_type": "code",
   "execution_count": null,
   "metadata": {},
   "outputs": [],
   "source": [
    "data['Product_Description'].value_counts()[:1].index.tolist()"
   ]
  },
  {
   "cell_type": "code",
   "execution_count": null,
   "metadata": {},
   "outputs": [],
   "source": [
    "CustomerRFM = pd.pivot_table(data,index=['CustomerID'],values=['Transaction_Date','Transaction_ID','Invoice_Value'],aggfunc={'Transaction_Date':'max','Transaction_ID':'count','Invoice_Value':'sum'})"
   ]
  },
  {
   "cell_type": "code",
   "execution_count": null,
   "metadata": {},
   "outputs": [],
   "source": [
    "last_date = '2020-01-01'\n",
    "last_date=pd.to_datetime(last_date)"
   ]
  },
  {
   "cell_type": "code",
   "execution_count": null,
   "metadata": {},
   "outputs": [],
   "source": [
    "CustomerRFM['Recency'] = CustomerRFM['Transaction_Date'].apply(lambda x: last_date-x).dt.days"
   ]
  },
  {
   "cell_type": "code",
   "execution_count": null,
   "metadata": {},
   "outputs": [],
   "source": [
    "CustomerRFM.rename(columns={'Transaction_ID':'visitcount','Invoice_Value':'Monetary'},inplace=True)"
   ]
  },
  {
   "cell_type": "code",
   "execution_count": null,
   "metadata": {},
   "outputs": [],
   "source": [
    "CustomerRFM.drop(columns='Transaction_Date',inplace=True)"
   ]
  },
  {
   "cell_type": "code",
   "execution_count": null,
   "metadata": {},
   "outputs": [],
   "source": [
    "sns.histplot(CustomerRFM['Monetary'])"
   ]
  },
  {
   "cell_type": "code",
   "execution_count": null,
   "metadata": {},
   "outputs": [],
   "source": [
    "sns.histplot(CustomerRFM['visitcount'])"
   ]
  },
  {
   "cell_type": "code",
   "execution_count": null,
   "metadata": {},
   "outputs": [],
   "source": [
    "sns.histplot(CustomerRFM['Recency'])"
   ]
  },
  {
   "cell_type": "code",
   "execution_count": null,
   "metadata": {},
   "outputs": [],
   "source": [
    "print(CustomerRFM['Recency'].quantile(.25))\n",
    "print(CustomerRFM['Recency'].quantile(.50))"
   ]
  },
  {
   "cell_type": "code",
   "execution_count": null,
   "metadata": {},
   "outputs": [],
   "source": [
    "def R_Score(x):\n",
    "    x['Recency'].astype('int')\n",
    "    if x['Recency']<56:\n",
    "        recency = 3\n",
    "    elif x['Recency']>=132:\n",
    "        recency = 1\n",
    "    else:\n",
    "        recency = 2\n",
    "    return recency"
   ]
  },
  {
   "cell_type": "code",
   "execution_count": null,
   "metadata": {},
   "outputs": [],
   "source": [
    "CustomerRFM['R'] = CustomerRFM.apply(R_Score,axis=1)"
   ]
  },
  {
   "cell_type": "code",
   "execution_count": null,
   "metadata": {},
   "outputs": [],
   "source": [
    "#R_Score = 3-pd.qcut(CustomerRFM['Recency'],q=3,labels= False)\n",
    "#CustomerRFM = CustomerRFM.assign(R = R_Score.values)\n",
    "#F_Score = 1+pd.qcut(CustomerRFM['visitcount'],q=3,labels= range(1,4))\n",
    "\n",
    "F_Score = 1+pd.qcut(CustomerRFM['visitcount'],q=3,labels= False)\n",
    "CustomerRFM = CustomerRFM.assign(F = F_Score.values)\n",
    "\n",
    "M_Score = 1+pd.qcut(CustomerRFM['Monetary'],q=3,labels= False)\n",
    "CustomerRFM = CustomerRFM.assign(M = M_Score.values)"
   ]
  },
  {
   "cell_type": "code",
   "execution_count": null,
   "metadata": {},
   "outputs": [],
   "source": [
    "CustomerRFM.dtypes"
   ]
  },
  {
   "cell_type": "code",
   "execution_count": null,
   "metadata": {},
   "outputs": [],
   "source": [
    "CustomerRFM['R'].astype('str')"
   ]
  },
  {
   "cell_type": "code",
   "execution_count": null,
   "metadata": {},
   "outputs": [],
   "source": [
    "def RFM_Score(x):\n",
    "    return str(x['R']) + str(x['F']) + str(x['M'])\n",
    "CustomerRFM['RFM_Score'] = CustomerRFM.apply(RFM_Score,axis=1)"
   ]
  },
  {
   "cell_type": "code",
   "execution_count": null,
   "metadata": {},
   "outputs": [],
   "source": [
    "CustomerRFM['RFM_Score'] = CustomerRFM.apply(RFM_Score,axis=1)"
   ]
  },
  {
   "cell_type": "code",
   "execution_count": null,
   "metadata": {},
   "outputs": [],
   "source": [
    "CustomerRFM['RFM_Score']=CustomerRFM['RFM_Score'].astype('int')"
   ]
  },
  {
   "cell_type": "code",
   "execution_count": null,
   "metadata": {},
   "outputs": [],
   "source": [
    "CustomerRFM['RFM_Score'].sort_values().unique()"
   ]
  },
  {
   "cell_type": "code",
   "execution_count": null,
   "metadata": {},
   "outputs": [],
   "source": [
    "def RFM_Segment(x):\n",
    "    if x['RFM_Score']==333:\n",
    "        Segment = 'Premium'\n",
    "    elif x['RFM_Score'] in (133,233,313,323,331,332):\n",
    "        Segment = 'Gold'\n",
    "    elif x['RFM_Score'] in (113,123,213,223,131,132,231,231,311,312,321,322):\n",
    "        Segment = 'Silver'\n",
    "    else:\n",
    "        Segment = 'Standard'\n",
    "    return Segment"
   ]
  },
  {
   "cell_type": "code",
   "execution_count": null,
   "metadata": {},
   "outputs": [],
   "source": [
    "CustomerRFM['RFM_Segment']=CustomerRFM.apply(RFM_Segment,axis=1)"
   ]
  },
  {
   "cell_type": "code",
   "execution_count": null,
   "metadata": {},
   "outputs": [],
   "source": [
    "CustomerRFM['RFM_Segment'].value_counts()"
   ]
  },
  {
   "cell_type": "code",
   "execution_count": null,
   "metadata": {},
   "outputs": [],
   "source": [
    "CustomerRFM2=CustomerRFM[['Monetary','visitcount','Recency']]"
   ]
  },
  {
   "cell_type": "code",
   "execution_count": null,
   "metadata": {},
   "outputs": [],
   "source": [
    "#Using  K-means\n",
    "from sklearn.cluster import KMeans\n",
    "\n",
    "distortions = []\n",
    "K = range(1,7)\n",
    "for k in K:\n",
    "    kmeanModel = KMeans(n_clusters=k)\n",
    "    kmeanModel.fit(CustomerRFM2)\n",
    "    distortions.append(kmeanModel.inertia_)"
   ]
  },
  {
   "cell_type": "code",
   "execution_count": null,
   "metadata": {},
   "outputs": [],
   "source": [
    "#plot elbow graph\n",
    "plt.figure(figsize=(15,5))\n",
    "plt.plot(K, distortions, 'bx-')\n",
    "plt.xlabel('k')\n",
    "plt.ylabel('Distortion')\n",
    "plt.title('The Elbow Method Showing The Optimal k')\n",
    "sns.despine()\n",
    "plt.show()"
   ]
  },
  {
   "cell_type": "code",
   "execution_count": null,
   "metadata": {},
   "outputs": [],
   "source": [
    "#We choose k value to be 3\n",
    "clusters = KMeans(n_clusters=3, random_state=42).fit(CustomerRFM2)\n",
    "CustomerRFM2[\"Kman Segmentation\"] = clusters.labels_"
   ]
  },
  {
   "cell_type": "code",
   "execution_count": null,
   "metadata": {},
   "outputs": [],
   "source": [
    "CustomerRFM2[\"Kman Segmentation\"].value_counts()"
   ]
  },
  {
   "cell_type": "code",
   "execution_count": null,
   "metadata": {},
   "outputs": [],
   "source": [
    "g = sns.FacetGrid(CustomerRFM2,\n",
    "                  row=\"Kman Segmentation\",\n",
    "                  hue=\"Kman Segmentation\",\n",
    "                  aspect=10,\n",
    "                  # palette=palette\n",
    "                  )\n",
    "# Draw the densities in a few steps\n",
    "g.map(sns.kdeplot, \"Monetary\",\n",
    "      bw_adjust=.5, clip_on=False,\n",
    "      fill=True, alpha=1, linewidth=1.5)\n",
    "g.map(sns.kdeplot, \"Monetary\", clip_on=False, color=\"w\", lw=2, bw_adjust=.5, alpha=.7)\n",
    "\n",
    "# passing color=None to refline() uses the hue mapping\n",
    "g.refline(y=0, linewidth=2, linestyle=\"-\", color=None, clip_on=False)\n",
    "\n",
    "# Define and use a simple function to label the plot in axes coordinates\n",
    "def label(Monetary, color, label):\n",
    "    ax = plt.gca()\n",
    "    ax.text(0, .2, label, fontweight=\"bold\", color=color,\n",
    "            ha=\"left\", va=\"center\", transform=ax.transAxes)\n",
    "\n",
    "g.map(label, \"Monetary\")\n",
    "\n",
    "# Add vertical lines for mean age on each plot\n",
    "def vertical_mean_line_survived(x, **kwargs):\n",
    "    plt.axvline(x.mean(), linestyle =\"-\", \n",
    "                color = \"black\", alpha=.5)\n",
    "    txkw = dict(size=10, color = \"black\")\n",
    "    tx = \"mean: {:.2f} | std: {:.2f}\".format(x.mean(),x.std())\n",
    "    ax = plt.gca()\n",
    "    ax.text(0.06+x.mean()/175000, .2, tx, color=\"black\", size= 10,\n",
    "            ha=\"left\", va=\"center\", transform=ax.transAxes)\n",
    "    # plt.text(x.mean()+1, 0.0052, tx, **txkw)\n",
    "\n",
    "g.map(vertical_mean_line_survived, 'Monetary')\n",
    "\n",
    "# Set the subplots to overlap\n",
    "g.figure.subplots_adjust(hspace=0.1)\n",
    "\n",
    "# Remove axes details that don't play well with overlap\n",
    "g.fig.suptitle('Income Distributions For Customer Personalities')\n",
    "g.set_titles(\"\")\n",
    "g.set(yticks=[], ylabel=\"\")\n",
    "g.despine(bottom=True, left=True)"
   ]
  },
  {
   "cell_type": "code",
   "execution_count": null,
   "metadata": {},
   "outputs": [],
   "source": [
    "g = sns.FacetGrid(CustomerRFM2,\n",
    "                  row=\"Kman Segmentation\",\n",
    "                  hue=\"Kman Segmentation\",\n",
    "                  aspect=10,\n",
    "                  # palette=palette\n",
    "                  )\n",
    "# Draw the densities in a few steps\n",
    "g.map(sns.kdeplot, \"visitcount\",\n",
    "      bw_adjust=.5, clip_on=False,\n",
    "      fill=True, alpha=1, linewidth=1.5)\n",
    "g.map(sns.kdeplot, \"visitcount\", clip_on=False, color=\"w\", lw=2, bw_adjust=.5, alpha=.7)\n",
    "\n",
    "# passing color=None to refline() uses the hue mapping\n",
    "g.refline(y=0, linewidth=2, linestyle=\"-\", color=None, clip_on=False)\n",
    "\n",
    "# Define and use a simple function to label the plot in axes coordinates\n",
    "def label(visitcount, color, label):\n",
    "    ax = plt.gca()\n",
    "    ax.text(0, .2, label, fontweight=\"bold\", color=color,\n",
    "            ha=\"left\", va=\"center\", transform=ax.transAxes)\n",
    "\n",
    "g.map(label, \"visitcount\")\n",
    "\n",
    "# Add vertical lines for mean age on each plot\n",
    "def vertical_mean_line_survived(x, **kwargs):\n",
    "    plt.axvline(x.mean(), linestyle =\"-\", \n",
    "                color = \"black\", alpha=.5)\n",
    "    txkw = dict(size=10, color = \"black\")\n",
    "    tx = \"mean: {:.2f} | std: {:.2f}\".format(x.mean(),x.std())\n",
    "    ax = plt.gca()\n",
    "    ax.text(0.06+x.mean()/175000, .2, tx, color=\"black\", size= 10,\n",
    "            ha=\"left\", va=\"center\", transform=ax.transAxes)\n",
    "    # plt.text(x.mean()+1, 0.0052, tx, **txkw)\n",
    "\n",
    "g.map(vertical_mean_line_survived, 'visitcount')\n",
    "\n",
    "# Set the subplots to overlap\n",
    "g.figure.subplots_adjust(hspace=0.1)\n",
    "\n",
    "# Remove axes details that don't play well with overlap\n",
    "g.fig.suptitle('Income Distributions For Customer Personalities')\n",
    "g.set_titles(\"\")\n",
    "g.set(yticks=[], ylabel=\"\")\n",
    "g.despine(bottom=True, left=True)"
   ]
  },
  {
   "cell_type": "code",
   "execution_count": null,
   "metadata": {},
   "outputs": [],
   "source": [
    "g = sns.FacetGrid(CustomerRFM2,\n",
    "                  row=\"Kman Segmentation\",\n",
    "                  hue=\"Kman Segmentation\",\n",
    "                  aspect=10,\n",
    "                  # palette=palette\n",
    "                  )\n",
    "# Draw the densities in a few steps\n",
    "g.map(sns.kdeplot, \"Recency\",\n",
    "      bw_adjust=.5, clip_on=False,\n",
    "      fill=True, alpha=1, linewidth=1.5)\n",
    "g.map(sns.kdeplot, \"Recency\", clip_on=False, color=\"w\", lw=2, bw_adjust=.5, alpha=.7)\n",
    "\n",
    "# passing color=None to refline() uses the hue mapping\n",
    "g.refline(y=0, linewidth=2, linestyle=\"-\", color=None, clip_on=False)\n",
    "\n",
    "# Define and use a simple function to label the plot in axes coordinates\n",
    "def label(Recency, color, label):\n",
    "    ax = plt.gca()\n",
    "    ax.text(0, .2, label, fontweight=\"bold\", color=color,\n",
    "            ha=\"left\", va=\"center\", transform=ax.transAxes)\n",
    "\n",
    "g.map(label, \"Recency\")\n",
    "\n",
    "# Add vertical lines for mean age on each plot\n",
    "def vertical_mean_line_survived(x, **kwargs):\n",
    "    plt.axvline(x.mean(), linestyle =\"-\", \n",
    "                color = \"black\", alpha=.5)\n",
    "    txkw = dict(size=10, color = \"black\")\n",
    "    tx = \"mean: {:.2f} | std: {:.2f}\".format(x.mean(),x.std())\n",
    "    ax = plt.gca()\n",
    "    ax.text(0.06+x.mean()/175000, .2, tx, color=\"black\", size= 10,\n",
    "            ha=\"left\", va=\"center\", transform=ax.transAxes)\n",
    "    # plt.text(x.mean()+1, 0.0052, tx, **txkw)\n",
    "\n",
    "g.map(vertical_mean_line_survived, 'Recency')\n",
    "\n",
    "# Set the subplots to overlap\n",
    "g.figure.subplots_adjust(hspace=0.1)\n",
    "\n",
    "# Remove axes details that don't play well with overlap\n",
    "g.fig.suptitle('Income Distributions For Customer Personalities')\n",
    "g.set_titles(\"\")\n",
    "g.set(yticks=[], ylabel=\"\")\n",
    "g.despine(bottom=True, left=True)"
   ]
  },
  {
   "attachments": {},
   "cell_type": "markdown",
   "metadata": {},
   "source": [
    "# from the above we can conclude that segment 3 have low recency high frequency and high monetary value and segment 1 has the lowest of all values while segment 2 has mid of the two segment"
   ]
  },
  {
   "attachments": {},
   "cell_type": "markdown",
   "metadata": {},
   "source": [
    "#Customer Lifetime Value = Avg. Customer Lifespan* Customer Value\n",
    "\n",
    "Customer Value = Average Purchase Value X Average No of Purchases\n",
    "\n",
    "Average Purchase Value = Total Revenue/no of orders\n",
    "Average No of Purchases = No of purchases/No of customer\n",
    "\n",
    "Avg. Customer Lifespan = Sum of customer lifespan / no of customer"
   ]
  },
  {
   "cell_type": "code",
   "execution_count": null,
   "metadata": {},
   "outputs": [],
   "source": [
    "lftv = pd.pivot_table(data=data,index=['CustomerID','Location','Gender'],values=['month','Transaction_Date','Tenure_Months','Invoice_Value'],aggfunc={'month':'min','Tenure_Months':'median','Invoice_Value':'sum'})"
   ]
  },
  {
   "cell_type": "code",
   "execution_count": null,
   "metadata": {},
   "outputs": [],
   "source": [
    "lftv.reset_index(inplace=True)"
   ]
  },
  {
   "cell_type": "code",
   "execution_count": null,
   "metadata": {},
   "outputs": [],
   "source": [
    "lftv.head()"
   ]
  },
  {
   "cell_type": "code",
   "execution_count": null,
   "metadata": {},
   "outputs": [],
   "source": [
    "lftv['basket']=pd.qcut(x=lftv['Invoice_Value'], q=3,labels=['Low Value','Medium Value','High Value'])"
   ]
  },
  {
   "cell_type": "code",
   "execution_count": null,
   "metadata": {},
   "outputs": [],
   "source": [
    "lftv.drop(columns = ['Invoice_Value','CustomerID'],inplace=True)"
   ]
  },
  {
   "cell_type": "code",
   "execution_count": null,
   "metadata": {},
   "outputs": [],
   "source": [
    "lftv_model =pd.get_dummies(lftv,prefix={'Location':'location', 'Gender':'Gender', 'month':'month'},columns = ['Location','Gender','month'],drop_first=False)"
   ]
  },
  {
   "cell_type": "code",
   "execution_count": null,
   "metadata": {},
   "outputs": [],
   "source": [
    "#permorning classification model\n",
    "x=lftv_model.copy()\n",
    "y=x.pop('basket')"
   ]
  },
  {
   "cell_type": "code",
   "execution_count": null,
   "metadata": {},
   "outputs": [],
   "source": [
    "from sklearn.preprocessing import StandardScaler\n",
    "scale = StandardScaler()\n",
    "x=scale.fit_transform(x)"
   ]
  },
  {
   "attachments": {},
   "cell_type": "markdown",
   "metadata": {},
   "source": [
    "from sklearn.linear_model import LogisticRegression\n",
    "LR = LogisticRegression()\n",
    "LR.fit(x,y)\n",
    "ypred = LR.predict(x)"
   ]
  },
  {
   "attachments": {},
   "cell_type": "markdown",
   "metadata": {},
   "source": [
    "#Takes real long time to run!! hence markdowned\n",
    "\n",
    "#Finding Cross selling product\n",
    "grouped = pd.crosstab(data['Transaction_ID'],data['Product_SKU'])\n",
    "grouped=grouped.reset_index()\n",
    "grouped.drop(columns='Transaction_ID',inplace=True)"
   ]
  },
  {
   "attachments": {},
   "cell_type": "markdown",
   "metadata": {},
   "source": [
    "mygroup = pd.DataFrame(columns=['col1','freq'])"
   ]
  },
  {
   "attachments": {},
   "cell_type": "markdown",
   "metadata": {},
   "source": [
    "from collections import Counter\n",
    "from itertools import combinations\n",
    "\n",
    "for i in combinations(grouped.columns,2):\n",
    "    x,y = i\n",
    "    mygroup.loc[len(mygroup),['col1','freq']]=(x,y),len(grouped[(grouped[x]==grouped[y])&(grouped[x]==1)])\n",
    "\n",
    "for i in combinations(grouped.columns,3):\n",
    "    x,y,z = i\n",
    "    mygroup.loc[len(mygroup),['col1','freq']]=(x,y),len(grouped[(grouped[x]==grouped[y])&(grouped[x]==grouped[z])&(grouped[x]!=0)])"
   ]
  },
  {
   "attachments": {},
   "cell_type": "markdown",
   "metadata": {},
   "source": [
    "mygroup.head(10).sort_values(by='freq',ascending=False)"
   ]
  },
  {
   "cell_type": "code",
   "execution_count": null,
   "metadata": {},
   "outputs": [],
   "source": [
    "def max_min(x):\n",
    "    mx=x.max()\n",
    "    mn=x.min()\n",
    "    y= (mx-mn).days\n",
    "    return y"
   ]
  },
  {
   "cell_type": "code",
   "execution_count": null,
   "metadata": {},
   "outputs": [],
   "source": [
    "avgtenure=pd.DataFrame(pd.pivot_table(data=data,index=['CustomerID'],values=['Transaction_Date'],aggfunc={'Transaction_Date':[pd.Series.nunique,'max','min',max_min]}))"
   ]
  },
  {
   "cell_type": "code",
   "execution_count": null,
   "metadata": {},
   "outputs": [],
   "source": [
    "avgtenure.reset_index(inplace=True)"
   ]
  },
  {
   "cell_type": "code",
   "execution_count": null,
   "metadata": {},
   "outputs": [],
   "source": [
    "avgtenure.columns=avgtenure.columns.droplevel()"
   ]
  },
  {
   "cell_type": "code",
   "execution_count": null,
   "metadata": {},
   "outputs": [],
   "source": [
    "avgtenure.head()"
   ]
  },
  {
   "cell_type": "code",
   "execution_count": null,
   "metadata": {},
   "outputs": [],
   "source": [
    "avgtenure.reset_index(inplace=True)\n",
    "avgtenure.rename(columns={'max_min':'nofdays','nunique':'N of Trans'},inplace=True)"
   ]
  },
  {
   "cell_type": "code",
   "execution_count": null,
   "metadata": {},
   "outputs": [],
   "source": [
    "avgtenure['avglife']=round(avgtenure['nofdays']/avgtenure['N of Trans'],0)"
   ]
  },
  {
   "cell_type": "code",
   "execution_count": null,
   "metadata": {},
   "outputs": [],
   "source": [
    "sns.displot(data=avgtenure['avglife'])"
   ]
  },
  {
   "cell_type": "code",
   "execution_count": null,
   "metadata": {},
   "outputs": [],
   "source": [
    "data=pd.merge(left=data,right=avgtenure,on='CustomerID',how='left')"
   ]
  },
  {
   "cell_type": "code",
   "execution_count": null,
   "metadata": {},
   "outputs": [],
   "source": [
    "data['NPD']=pd.cut(x=data['avglife'], bins=[0,30,60,90,200],labels=['0-30','30-60','60-90','>90'])"
   ]
  },
  {
   "cell_type": "code",
   "execution_count": null,
   "metadata": {},
   "outputs": [],
   "source": [
    "sns.heatmap(data.select_dtypes('int','float').corr())"
   ]
  },
  {
   "cell_type": "code",
   "execution_count": null,
   "metadata": {},
   "outputs": [],
   "source": [
    "data2=data.copy()"
   ]
  },
  {
   "cell_type": "code",
   "execution_count": null,
   "metadata": {},
   "outputs": [],
   "source": [
    "data2=data2[(data2['avglife']>0)&(data2['visitcount']>1)]"
   ]
  },
  {
   "cell_type": "code",
   "execution_count": null,
   "metadata": {},
   "outputs": [],
   "source": [
    "data2.reset_index(inplace=True)\n",
    "data2.drop(columns={'index','CustomerID','Transaction_ID'},inplace=True)"
   ]
  },
  {
   "cell_type": "code",
   "execution_count": null,
   "metadata": {},
   "outputs": [],
   "source": [
    "data2['NPD']=data2['NPD'].astype('str')"
   ]
  },
  {
   "cell_type": "code",
   "execution_count": null,
   "metadata": {},
   "outputs": [],
   "source": [
    "#Selecting feature for target variable\n",
    "x2train=data2[['Product_Description','Quantity','Coupon_Status','Location','Tenure_Months','visitcount','Gender','NPD']]\n"
   ]
  },
  {
   "cell_type": "code",
   "execution_count": null,
   "metadata": {},
   "outputs": [],
   "source": [
    "y2train=x2train.pop('NPD')"
   ]
  },
  {
   "cell_type": "code",
   "execution_count": null,
   "metadata": {},
   "outputs": [],
   "source": [
    "x2train =pd.get_dummies(x2train,prefix={'Product_Description':'Product_Description', 'Coupon_Status':'Coupon_Status','Location':'Location','Gender':'Gender'},columns = ['Product_Description','Coupon_Status','Location','Gender'],drop_first=False)"
   ]
  },
  {
   "cell_type": "code",
   "execution_count": null,
   "metadata": {},
   "outputs": [],
   "source": [
    "x2train.dtypes"
   ]
  },
  {
   "cell_type": "code",
   "execution_count": null,
   "metadata": {},
   "outputs": [],
   "source": [
    "x2train.isnull().sum()"
   ]
  },
  {
   "cell_type": "code",
   "execution_count": null,
   "metadata": {},
   "outputs": [],
   "source": [
    "y2train.isnull().sum()"
   ]
  },
  {
   "cell_type": "code",
   "execution_count": null,
   "metadata": {},
   "outputs": [],
   "source": [
    "y2train.dtypes"
   ]
  },
  {
   "cell_type": "code",
   "execution_count": null,
   "metadata": {},
   "outputs": [],
   "source": [
    "from sklearn.preprocessing import StandardScaler\n",
    "scale = StandardScaler()\n",
    "x2train=scale.fit_transform(x2train)"
   ]
  },
  {
   "cell_type": "code",
   "execution_count": null,
   "metadata": {},
   "outputs": [],
   "source": [
    "from sklearn.ensemble import RandomForestClassifier\n",
    "LR = RandomForestClassifier()\n",
    "LR.fit(x2train,y2train)\n",
    "ypred = LR.predict(x2train)"
   ]
  },
  {
   "cell_type": "code",
   "execution_count": null,
   "metadata": {},
   "outputs": [],
   "source": [
    "data.columns"
   ]
  },
  {
   "cell_type": "code",
   "execution_count": null,
   "metadata": {},
   "outputs": [],
   "source": [
    "data['start_month']=data['start_day'].dt.strftime('%b')"
   ]
  },
  {
   "cell_type": "code",
   "execution_count": null,
   "metadata": {},
   "outputs": [],
   "source": [
    "#New customer for each month cohort\n",
    "data[data['visitcount']==1].groupby('start_month')['CustomerID'].nunique()"
   ]
  },
  {
   "cell_type": "code",
   "execution_count": null,
   "metadata": {},
   "outputs": [],
   "source": [
    "#Total transaction for each month cohort\n",
    "data.groupby('start_month')['Transaction_ID'].nunique()"
   ]
  },
  {
   "cell_type": "code",
   "execution_count": null,
   "metadata": {},
   "outputs": [],
   "source": [
    "#Total Value purchased by monthly cohort\n",
    "data.groupby('start_month')['Invoice_Value'].sum()"
   ]
  },
  {
   "cell_type": "code",
   "execution_count": null,
   "metadata": {},
   "outputs": [],
   "source": [
    "#which month has maximum retention\n",
    "data[data['months_since_start']==1].groupby('start_month')['CustomerID'].nunique()"
   ]
  },
  {
   "cell_type": "code",
   "execution_count": null,
   "metadata": {},
   "outputs": [],
   "source": [
    "data[data['months_since_start']==1].groupby('start_month')['CustomerID'].nunique().idxmax()"
   ]
  }
 ],
 "metadata": {
  "kernelspec": {
   "display_name": "Python 3",
   "language": "python",
   "name": "python3"
  },
  "language_info": {
   "codemirror_mode": {
    "name": "ipython",
    "version": 3
   },
   "file_extension": ".py",
   "mimetype": "text/x-python",
   "name": "python",
   "nbconvert_exporter": "python",
   "pygments_lexer": "ipython3",
   "version": "3.11.1"
  },
  "orig_nbformat": 4
 },
 "nbformat": 4,
 "nbformat_minor": 2
}
